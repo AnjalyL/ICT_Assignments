{
 "cells": [
  {
   "cell_type": "code",
   "execution_count": 4,
   "id": "46d0f4be",
   "metadata": {},
   "outputs": [
    {
     "name": "stdout",
     "output_type": "stream",
     "text": [
      "Enter the radius:7\n"
     ]
    }
   ],
   "source": [
    "import math\n",
    "r= int(input('Enter the radius:'))"
   ]
  },
  {
   "cell_type": "code",
   "execution_count": 5,
   "id": "ff49b977",
   "metadata": {},
   "outputs": [
    {
     "name": "stdout",
     "output_type": "stream",
     "text": [
      "Area of the circle is: 153.93804002589985\n"
     ]
    }
   ],
   "source": [
    "print('Area of the circle is:',math.pi*r*r)"
   ]
  },
  {
   "cell_type": "code",
   "execution_count": null,
   "id": "001742c0",
   "metadata": {},
   "outputs": [],
   "source": []
  }
 ],
 "metadata": {
  "kernelspec": {
   "display_name": "Python 3 (ipykernel)",
   "language": "python",
   "name": "python3"
  },
  "language_info": {
   "codemirror_mode": {
    "name": "ipython",
    "version": 3
   },
   "file_extension": ".py",
   "mimetype": "text/x-python",
   "name": "python",
   "nbconvert_exporter": "python",
   "pygments_lexer": "ipython3",
   "version": "3.9.12"
  }
 },
 "nbformat": 4,
 "nbformat_minor": 5
}
