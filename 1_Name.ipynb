{
 "cells": [
  {
   "cell_type": "code",
   "execution_count": 4,
   "id": "513d2295",
   "metadata": {},
   "outputs": [
    {
     "name": "stdout",
     "output_type": "stream",
     "text": [
      "Enter the name of student:Anjaly\n",
      "Enter the roll no:7\n",
      "Enter the mark:45\n"
     ]
    }
   ],
   "source": [
    "Name= input('Enter the name of student:')\n",
    "RollNo= int(input('Enter the roll no:'))\n",
    "Marks = int(input('Enter the mark:'))"
   ]
  },
  {
   "cell_type": "code",
   "execution_count": 5,
   "id": "c1c6cadb",
   "metadata": {},
   "outputs": [
    {
     "name": "stdout",
     "output_type": "stream",
     "text": [
      "Name: Anjaly\n",
      "Roll No: 7\n",
      "Mark: 45\n"
     ]
    }
   ],
   "source": [
    "print('Name:',Name)\n",
    "print('Roll No:',RollNo)\n",
    "print('Mark:',Marks)"
   ]
  },
  {
   "cell_type": "code",
   "execution_count": null,
   "id": "110065d7",
   "metadata": {},
   "outputs": [],
   "source": []
  }
 ],
 "metadata": {
  "kernelspec": {
   "display_name": "Python 3 (ipykernel)",
   "language": "python",
   "name": "python3"
  },
  "language_info": {
   "codemirror_mode": {
    "name": "ipython",
    "version": 3
   },
   "file_extension": ".py",
   "mimetype": "text/x-python",
   "name": "python",
   "nbconvert_exporter": "python",
   "pygments_lexer": "ipython3",
   "version": "3.9.12"
  }
 },
 "nbformat": 4,
 "nbformat_minor": 5
}
