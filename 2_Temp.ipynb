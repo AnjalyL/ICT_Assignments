{
 "cells": [
  {
   "cell_type": "code",
   "execution_count": 1,
   "id": "f49442b8",
   "metadata": {},
   "outputs": [
    {
     "name": "stdout",
     "output_type": "stream",
     "text": [
      "Enter the temp in farenheit:41\n"
     ]
    }
   ],
   "source": [
    "farenheitTemp= int(input('Enter the temp in farenheit:'))"
   ]
  },
  {
   "cell_type": "code",
   "execution_count": 2,
   "id": "54e3dd6b",
   "metadata": {},
   "outputs": [],
   "source": [
    "C_Temp = int((farenheitTemp-32)*5/9)"
   ]
  },
  {
   "cell_type": "code",
   "execution_count": 3,
   "id": "8ec7f1ed",
   "metadata": {},
   "outputs": [
    {
     "name": "stdout",
     "output_type": "stream",
     "text": [
      "Temperature in Celsius = 5\n"
     ]
    }
   ],
   "source": [
    "print(\"Temperature in Celsius =\",C_Temp)"
   ]
  },
  {
   "cell_type": "code",
   "execution_count": 4,
   "id": "4607e31e",
   "metadata": {},
   "outputs": [],
   "source": [
    "## Celsius to farenheit"
   ]
  },
  {
   "cell_type": "code",
   "execution_count": 5,
   "id": "99a9e173",
   "metadata": {},
   "outputs": [
    {
     "name": "stdout",
     "output_type": "stream",
     "text": [
      "Enter the temp in Celsius:5\n"
     ]
    }
   ],
   "source": [
    "CelsiusTemp= int(input('Enter the temp in Celsius:'))"
   ]
  },
  {
   "cell_type": "code",
   "execution_count": 7,
   "id": "fd2d4ffa",
   "metadata": {},
   "outputs": [],
   "source": [
    "F_Temp = int((CelsiusTemp*9/5)+32)"
   ]
  },
  {
   "cell_type": "code",
   "execution_count": 8,
   "id": "c01a00c8",
   "metadata": {},
   "outputs": [
    {
     "name": "stdout",
     "output_type": "stream",
     "text": [
      "Temperature in farenheit = 41\n"
     ]
    }
   ],
   "source": [
    "print(\"Temperature in farenheit =\",F_Temp)"
   ]
  },
  {
   "cell_type": "code",
   "execution_count": null,
   "id": "0872be91",
   "metadata": {},
   "outputs": [],
   "source": []
  }
 ],
 "metadata": {
  "kernelspec": {
   "display_name": "Python 3 (ipykernel)",
   "language": "python",
   "name": "python3"
  },
  "language_info": {
   "codemirror_mode": {
    "name": "ipython",
    "version": 3
   },
   "file_extension": ".py",
   "mimetype": "text/x-python",
   "name": "python",
   "nbconvert_exporter": "python",
   "pygments_lexer": "ipython3",
   "version": "3.9.12"
  }
 },
 "nbformat": 4,
 "nbformat_minor": 5
}
