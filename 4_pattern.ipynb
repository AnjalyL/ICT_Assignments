{
 "cells": [
  {
   "cell_type": "code",
   "execution_count": 17,
   "id": "f8c7be03",
   "metadata": {},
   "outputs": [],
   "source": [
    "s = ( '\\n \"Learn Python by Developing a Website\" \\n')"
   ]
  },
  {
   "cell_type": "code",
   "execution_count": 18,
   "id": "145e2df5",
   "metadata": {},
   "outputs": [],
   "source": [
    "a = s.replace('Python ','**Python**')"
   ]
  },
  {
   "cell_type": "code",
   "execution_count": 19,
   "id": "d6006db0",
   "metadata": {},
   "outputs": [],
   "source": [
    "b = a.replace('Website','**Website**')"
   ]
  },
  {
   "cell_type": "code",
   "execution_count": 20,
   "id": "99fb3a75",
   "metadata": {},
   "outputs": [
    {
     "name": "stdout",
     "output_type": "stream",
     "text": [
      "\n",
      " \"Learn **Python**by Developing a **Website**\" \n",
      "\n"
     ]
    }
   ],
   "source": [
    "print(b)"
   ]
  },
  {
   "cell_type": "code",
   "execution_count": null,
   "id": "435ec2b3",
   "metadata": {},
   "outputs": [],
   "source": []
  },
  {
   "cell_type": "code",
   "execution_count": null,
   "id": "8e76cd54",
   "metadata": {},
   "outputs": [],
   "source": []
  },
  {
   "cell_type": "code",
   "execution_count": null,
   "id": "27c49f35",
   "metadata": {},
   "outputs": [],
   "source": []
  },
  {
   "cell_type": "code",
   "execution_count": null,
   "id": "d5e56e97",
   "metadata": {},
   "outputs": [],
   "source": []
  }
 ],
 "metadata": {
  "kernelspec": {
   "display_name": "Python 3 (ipykernel)",
   "language": "python",
   "name": "python3"
  },
  "language_info": {
   "codemirror_mode": {
    "name": "ipython",
    "version": 3
   },
   "file_extension": ".py",
   "mimetype": "text/x-python",
   "name": "python",
   "nbconvert_exporter": "python",
   "pygments_lexer": "ipython3",
   "version": "3.9.12"
  }
 },
 "nbformat": 4,
 "nbformat_minor": 5
}
