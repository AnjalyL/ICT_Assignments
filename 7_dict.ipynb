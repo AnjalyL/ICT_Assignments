{
 "cells": [
  {
   "cell_type": "code",
   "execution_count": 12,
   "id": "d4411dd7",
   "metadata": {},
   "outputs": [],
   "source": [
    "dict = {\"name\":\"John\", \"age\":5, \"salary\":8000, \"city\":\"New York\"}"
   ]
  },
  {
   "cell_type": "code",
   "execution_count": 13,
   "id": "70322ca6",
   "metadata": {},
   "outputs": [
    {
     "name": "stdout",
     "output_type": "stream",
     "text": [
      "{'name': 'John', 'age': 5, 'salary': 8000, 'city': 'New York'}\n"
     ]
    }
   ],
   "source": [
    "print(dict)"
   ]
  },
  {
   "cell_type": "code",
   "execution_count": 14,
   "id": "70b1a667",
   "metadata": {},
   "outputs": [],
   "source": [
    "dict['location'] = dict.pop('city')"
   ]
  },
  {
   "cell_type": "code",
   "execution_count": 15,
   "id": "e8b73a2b",
   "metadata": {},
   "outputs": [
    {
     "name": "stdout",
     "output_type": "stream",
     "text": [
      "{'name': 'John', 'age': 5, 'salary': 8000, 'location': 'New York'}\n"
     ]
    }
   ],
   "source": [
    "print(dict)"
   ]
  },
  {
   "cell_type": "code",
   "execution_count": null,
   "id": "5c3fdf96",
   "metadata": {},
   "outputs": [],
   "source": []
  }
 ],
 "metadata": {
  "kernelspec": {
   "display_name": "Python 3 (ipykernel)",
   "language": "python",
   "name": "python3"
  },
  "language_info": {
   "codemirror_mode": {
    "name": "ipython",
    "version": 3
   },
   "file_extension": ".py",
   "mimetype": "text/x-python",
   "name": "python",
   "nbconvert_exporter": "python",
   "pygments_lexer": "ipython3",
   "version": "3.9.12"
  }
 },
 "nbformat": 4,
 "nbformat_minor": 5
}
