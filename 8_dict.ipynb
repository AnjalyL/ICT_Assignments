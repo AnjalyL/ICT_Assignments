{
 "cells": [
  {
   "cell_type": "code",
   "execution_count": 12,
   "id": "a2b0eecf",
   "metadata": {},
   "outputs": [],
   "source": [
    "sample_dict = {'emp1':{'name':'John','salary':7500},'emp2':{'name':'emma','salary':8000},'emp3':{'name':'Brad','salary':500} }"
   ]
  },
  {
   "cell_type": "code",
   "execution_count": 13,
   "id": "4a99efc7",
   "metadata": {},
   "outputs": [
    {
     "name": "stdout",
     "output_type": "stream",
     "text": [
      "{'emp1': {'name': 'John', 'salary': 7500}, 'emp2': {'name': 'emma', 'salary': 8000}, 'emp3': {'name': 'Brad', 'salary': 500}}\n"
     ]
    }
   ],
   "source": [
    "print(sample_dict)"
   ]
  },
  {
   "cell_type": "code",
   "execution_count": 14,
   "id": "20d825f9",
   "metadata": {},
   "outputs": [],
   "source": [
    "sample_dict['emp3']['salary'] = 8500"
   ]
  },
  {
   "cell_type": "code",
   "execution_count": 15,
   "id": "3f4e4041",
   "metadata": {},
   "outputs": [
    {
     "name": "stdout",
     "output_type": "stream",
     "text": [
      "{'emp1': {'name': 'John', 'salary': 7500}, 'emp2': {'name': 'emma', 'salary': 8000}, 'emp3': {'name': 'Brad', 'salary': 8500}}\n"
     ]
    }
   ],
   "source": [
    "print(sample_dict)"
   ]
  },
  {
   "cell_type": "code",
   "execution_count": null,
   "id": "276c8b97",
   "metadata": {},
   "outputs": [],
   "source": []
  }
 ],
 "metadata": {
  "kernelspec": {
   "display_name": "Python 3 (ipykernel)",
   "language": "python",
   "name": "python3"
  },
  "language_info": {
   "codemirror_mode": {
    "name": "ipython",
    "version": 3
   },
   "file_extension": ".py",
   "mimetype": "text/x-python",
   "name": "python",
   "nbconvert_exporter": "python",
   "pygments_lexer": "ipython3",
   "version": "3.9.12"
  }
 },
 "nbformat": 4,
 "nbformat_minor": 5
}
