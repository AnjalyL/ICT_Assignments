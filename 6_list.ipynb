{
 "cells": [
  {
   "cell_type": "code",
   "execution_count": 1,
   "id": "4f1a5758",
   "metadata": {},
   "outputs": [],
   "source": [
    "list1=[1,2,3,4,5,6,7,8]"
   ]
  },
  {
   "cell_type": "code",
   "execution_count": 2,
   "id": "d98ad119",
   "metadata": {},
   "outputs": [
    {
     "name": "stdout",
     "output_type": "stream",
     "text": [
      "enter the number to be inserted4\n"
     ]
    }
   ],
   "source": [
    "n = int(input(\"enter the number to be inserted\"))"
   ]
  },
  {
   "cell_type": "code",
   "execution_count": 3,
   "id": "94bf5f1b",
   "metadata": {},
   "outputs": [
    {
     "name": "stdout",
     "output_type": "stream",
     "text": [
      "enter the position0\n"
     ]
    }
   ],
   "source": [
    "p = int(input(\"enter the position\"))"
   ]
  },
  {
   "cell_type": "code",
   "execution_count": 4,
   "id": "1a1e4f8d",
   "metadata": {},
   "outputs": [],
   "source": [
    "list1.insert(p,n)"
   ]
  },
  {
   "cell_type": "code",
   "execution_count": 5,
   "id": "91ad3742",
   "metadata": {},
   "outputs": [
    {
     "name": "stdout",
     "output_type": "stream",
     "text": [
      "[4, 1, 2, 3, 4, 5, 6, 7, 8]\n"
     ]
    }
   ],
   "source": [
    "print (list1)"
   ]
  },
  {
   "cell_type": "code",
   "execution_count": null,
   "id": "41adf302",
   "metadata": {},
   "outputs": [],
   "source": []
  },
  {
   "cell_type": "code",
   "execution_count": null,
   "id": "b42e6968",
   "metadata": {},
   "outputs": [],
   "source": []
  },
  {
   "cell_type": "code",
   "execution_count": null,
   "id": "0c01d4f5",
   "metadata": {},
   "outputs": [],
   "source": []
  }
 ],
 "metadata": {
  "kernelspec": {
   "display_name": "Python 3 (ipykernel)",
   "language": "python",
   "name": "python3"
  },
  "language_info": {
   "codemirror_mode": {
    "name": "ipython",
    "version": 3
   },
   "file_extension": ".py",
   "mimetype": "text/x-python",
   "name": "python",
   "nbconvert_exporter": "python",
   "pygments_lexer": "ipython3",
   "version": "3.9.12"
  }
 },
 "nbformat": 4,
 "nbformat_minor": 5
}
