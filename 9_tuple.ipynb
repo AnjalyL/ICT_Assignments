{
 "cells": [
  {
   "cell_type": "code",
   "execution_count": 7,
   "id": "15a2bcc7",
   "metadata": {},
   "outputs": [],
   "source": [
    "tuple1 = (10, 20, 43, 54, 56, 68)"
   ]
  },
  {
   "cell_type": "code",
   "execution_count": 8,
   "id": "0f874829",
   "metadata": {},
   "outputs": [
    {
     "data": {
      "text/plain": [
       "tuple"
      ]
     },
     "execution_count": 8,
     "metadata": {},
     "output_type": "execute_result"
    }
   ],
   "source": [
    "type(tuple1 )"
   ]
  },
  {
   "cell_type": "code",
   "execution_count": 9,
   "id": "745d8eab",
   "metadata": {},
   "outputs": [],
   "source": [
    "tuple2  = (tuple1 [2],tuple1 [3])"
   ]
  },
  {
   "cell_type": "code",
   "execution_count": 10,
   "id": "0c890a91",
   "metadata": {},
   "outputs": [
    {
     "name": "stdout",
     "output_type": "stream",
     "text": [
      "(43, 54)\n"
     ]
    }
   ],
   "source": [
    "print(tuple2)"
   ]
  },
  {
   "cell_type": "code",
   "execution_count": null,
   "id": "a2244b58",
   "metadata": {},
   "outputs": [],
   "source": []
  }
 ],
 "metadata": {
  "kernelspec": {
   "display_name": "Python 3 (ipykernel)",
   "language": "python",
   "name": "python3"
  },
  "language_info": {
   "codemirror_mode": {
    "name": "ipython",
    "version": 3
   },
   "file_extension": ".py",
   "mimetype": "text/x-python",
   "name": "python",
   "nbconvert_exporter": "python",
   "pygments_lexer": "ipython3",
   "version": "3.9.12"
  }
 },
 "nbformat": 4,
 "nbformat_minor": 5
}
