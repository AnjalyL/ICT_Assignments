{
 "cells": [
  {
   "cell_type": "code",
   "execution_count": 1,
   "id": "a0a9399a",
   "metadata": {},
   "outputs": [
    {
     "name": "stdout",
     "output_type": "stream",
     "text": [
      "Enter the first number:25\n",
      "Enter the second number:4\n"
     ]
    }
   ],
   "source": [
    "\n",
    "N1= int(input('Enter the first number:'))\n",
    "N2 = int(input('Enter the second number:'))\n"
   ]
  },
  {
   "cell_type": "code",
   "execution_count": 2,
   "id": "adafb0bd",
   "metadata": {},
   "outputs": [],
   "source": [
    "Product = N1*N2"
   ]
  },
  {
   "cell_type": "code",
   "execution_count": 4,
   "id": "d9567f56",
   "metadata": {},
   "outputs": [
    {
     "name": "stdout",
     "output_type": "stream",
     "text": [
      "Product is : 100\n"
     ]
    }
   ],
   "source": [
    "print('Product is :',Product)"
   ]
  },
  {
   "cell_type": "code",
   "execution_count": null,
   "id": "521d9620",
   "metadata": {},
   "outputs": [],
   "source": []
  },
  {
   "cell_type": "code",
   "execution_count": null,
   "id": "a1569575",
   "metadata": {},
   "outputs": [],
   "source": []
  },
  {
   "cell_type": "code",
   "execution_count": null,
   "id": "ebf2225d",
   "metadata": {},
   "outputs": [],
   "source": []
  },
  {
   "cell_type": "code",
   "execution_count": null,
   "id": "ee6848a0",
   "metadata": {},
   "outputs": [],
   "source": []
  }
 ],
 "metadata": {
  "kernelspec": {
   "display_name": "Python 3 (ipykernel)",
   "language": "python",
   "name": "python3"
  },
  "language_info": {
   "codemirror_mode": {
    "name": "ipython",
    "version": 3
   },
   "file_extension": ".py",
   "mimetype": "text/x-python",
   "name": "python",
   "nbconvert_exporter": "python",
   "pygments_lexer": "ipython3",
   "version": "3.9.12"
  }
 },
 "nbformat": 4,
 "nbformat_minor": 5
}
